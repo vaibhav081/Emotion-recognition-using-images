{
 "cells": [
  {
   "cell_type": "code",
   "execution_count": 1,
   "metadata": {
    "collapsed": true
   },
   "outputs": [],
   "source": []
  },
  {
   "cell_type": "code",
   "execution_count": 1,
   "metadata": {
    "collapsed": true
   },
   "outputs": [],
   "source": [
    "#flask dependencies\n",
    "import cv2\n",
    "from flask import Flask , request\n",
    "from werkzeug import secure_filename\n",
    "import pickle\n",
    "import pandas as pd\n",
    "import os\n",
    "import numpy as np\n",
    "import json\n",
    "from PIL import Image\n",
    "\n",
    "\n",
    "\n",
    "\n",
    "UPLOAD_FILE='/Users/Vaibhav Sharma/machine learning/emotion using opencv/fer2013/images'\n",
    "\n",
    "\n",
    "\n",
    "\n",
    "\n",
    "UPLOAD_FOLDER = '/images/'\n",
    "ALLOWED_EXTENSIONS = set(['png' , 'jpeg' , 'jpg'])\n",
    "\n",
    "app = Flask(__name__)\n",
    "\n",
    "app.config['UPLOAD_FILE'] = UPLOAD_FILE\n",
    "\n",
    "def allowed_file(filename):\n",
    "    return '.' in filename and \\\n",
    "           filename.rsplit('.', 1)[1] in ALLOWED_EXTENSIONS\n",
    "\n",
    "@app.route('/find' , methods = ['GET' , 'POST'])\n",
    "def find():\n",
    "    if request.method == 'GET':\n",
    "        return \"HELLO\"\n",
    "\n",
    "@app.route('/' , methods = ['POST'])\n",
    "def index():\n",
    "    if request.method == 'POST':\n",
    "        file = request.files['file']\n",
    "        if file and allowed_file(file.filename):\n",
    "            filename = secure_filename(file.filename)\n",
    "            print(filename)\n",
    "            file.save(os.path.join(app.config['UPLOAD_FILE'], filename))\n",
    "            \n",
    "            filename = r'/Users/Vaibhav Sharma/machine learning/emotion using opencv/fer2013/images/'+filename\n",
    "            img=Image.open(filename).convert('LA')\n",
    "            img = img.resize((48,48),Image.ANTIALIAS)\n",
    "            data=list(img.getdata())\n",
    "            d=[]\n",
    "            for i in data:\n",
    "                d.append(i[0])\n",
    "                \n",
    "    \n",
    "            \n",
    "            \n",
    "            EMOTIONS = ['angry', 'disgusted', 'fearful', 'happy', 'sad', 'surprised', 'neutral']\n",
    "            \n",
    "          \n",
    "            \n",
    "        \n",
    "        \n",
    "            new=open(\"main_clf.pickle\",\"rb\")\n",
    "            clf=pickle.load(new)\n",
    "            new.close()\n",
    "            d=np.array(d)\n",
    "            af=pd.DataFrame(d.reshape(1,-1))\n",
    "            ans = clf.predict(af)\n",
    "            ans=int(ans)\n",
    "            emotion=EMOTIONS[ans] \n",
    "            return emotion\n",
    "            \n",
    "            \n",
    "\n",
    "\n",
    "\n",
    "    \n",
    "   "
   ]
  },
  {
   "cell_type": "code",
   "execution_count": null,
   "metadata": {},
   "outputs": [
    {
     "name": "stderr",
     "output_type": "stream",
     "text": [
      " * Running on http://192.168.1.100:5110/ (Press CTRL+C to quit)\n"
     ]
    },
    {
     "name": "stdout",
     "output_type": "stream",
     "text": [
      "sman.jpg\n"
     ]
    },
    {
     "name": "stderr",
     "output_type": "stream",
     "text": [
      "C:\\Users\\Vaibhav Sharma\\Anaconda3\\lib\\site-packages\\sklearn\\cross_validation.py:44: DeprecationWarning: This module was deprecated in version 0.18 in favor of the model_selection module into which all the refactored classes and functions are moved. Also note that the interface of the new CV iterators are different from that of this module. This module will be removed in 0.20.\n",
      "  \"This module will be removed in 0.20.\", DeprecationWarning)\n",
      "192.168.1.100 - - [29/Nov/2017 22:29:29] \"POST / HTTP/1.1\" 200 -\n",
      "192.168.1.100 - - [29/Nov/2017 22:36:06] \"POST / HTTP/1.1\" 200 -\n"
     ]
    },
    {
     "name": "stdout",
     "output_type": "stream",
     "text": [
      "Androgyne.jpg\n"
     ]
    },
    {
     "name": "stderr",
     "output_type": "stream",
     "text": [
      "192.168.1.100 - - [29/Nov/2017 22:36:13] \"POST / HTTP/1.1\" 200 -\n"
     ]
    },
    {
     "name": "stdout",
     "output_type": "stream",
     "text": [
      "2298900_1966-09-07_2003.jpg\n"
     ]
    },
    {
     "name": "stderr",
     "output_type": "stream",
     "text": [
      "192.168.1.100 - - [29/Nov/2017 22:36:20] \"POST / HTTP/1.1\" 200 -\n"
     ]
    },
    {
     "name": "stdout",
     "output_type": "stream",
     "text": [
      "asd.jpg\n"
     ]
    },
    {
     "name": "stderr",
     "output_type": "stream",
     "text": [
      "192.168.1.100 - - [29/Nov/2017 22:36:32] \"POST / HTTP/1.1\" 200 -\n"
     ]
    },
    {
     "name": "stdout",
     "output_type": "stream",
     "text": [
      "sman.jpg\n"
     ]
    },
    {
     "name": "stderr",
     "output_type": "stream",
     "text": [
      "192.168.1.100 - - [29/Nov/2017 23:06:55] \"POST / HTTP/1.1\" 200 -\n"
     ]
    },
    {
     "name": "stdout",
     "output_type": "stream",
     "text": [
      "1479500_1962-10-04_2011.jpg\n"
     ]
    },
    {
     "name": "stderr",
     "output_type": "stream",
     "text": [
      "192.168.1.100 - - [29/Nov/2017 23:07:26] \"POST / HTTP/1.1\" 200 -\n"
     ]
    },
    {
     "name": "stdout",
     "output_type": "stream",
     "text": [
      "sman.jpg\n"
     ]
    },
    {
     "name": "stderr",
     "output_type": "stream",
     "text": [
      "192.168.1.100 - - [29/Nov/2017 23:07:35] \"POST / HTTP/1.1\" 200 -\n"
     ]
    },
    {
     "name": "stdout",
     "output_type": "stream",
     "text": [
      "laura.jpg\n"
     ]
    },
    {
     "name": "stderr",
     "output_type": "stream",
     "text": [
      "192.168.1.100 - - [29/Nov/2017 23:08:25] \"POST / HTTP/1.1\" 200 -\n"
     ]
    },
    {
     "name": "stdout",
     "output_type": "stream",
     "text": [
      "2298900_1966-09-07_2003.jpg\n"
     ]
    },
    {
     "name": "stderr",
     "output_type": "stream",
     "text": [
      "192.168.1.100 - - [29/Nov/2017 23:08:32] \"POST / HTTP/1.1\" 200 -\n"
     ]
    },
    {
     "name": "stdout",
     "output_type": "stream",
     "text": [
      "Androgyne.jpg\n"
     ]
    },
    {
     "name": "stderr",
     "output_type": "stream",
     "text": [
      "192.168.1.100 - - [29/Nov/2017 23:08:39] \"POST / HTTP/1.1\" 200 -\n"
     ]
    },
    {
     "name": "stdout",
     "output_type": "stream",
     "text": [
      "asd.jpg\n"
     ]
    },
    {
     "name": "stderr",
     "output_type": "stream",
     "text": [
      "192.168.1.100 - - [29/Nov/2017 23:08:46] \"POST / HTTP/1.1\" 200 -\n"
     ]
    },
    {
     "name": "stdout",
     "output_type": "stream",
     "text": [
      "sman.jpg\n"
     ]
    }
   ],
   "source": [
    "if __name__=='__main__':\n",
    "    app.run(debug=True,host=\"192.168.1.100\",port=5110,use_reloader=False)"
   ]
  }
 ],
 "metadata": {
  "kernelspec": {
   "display_name": "Python [default]",
   "language": "python",
   "name": "python3"
  },
  "language_info": {
   "codemirror_mode": {
    "name": "ipython",
    "version": 3
   },
   "file_extension": ".py",
   "mimetype": "text/x-python",
   "name": "python",
   "nbconvert_exporter": "python",
   "pygments_lexer": "ipython3",
   "version": "3.6.2"
  }
 },
 "nbformat": 4,
 "nbformat_minor": 2
}
